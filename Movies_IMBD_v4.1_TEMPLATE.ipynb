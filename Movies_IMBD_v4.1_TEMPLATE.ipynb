{
 "cells": [
  {
   "cell_type": "code",
   "execution_count": 0,
   "metadata": {
    "_cell_guid": "b1076dfc-b9ad-4769-8c92-a6c4dae69d19",
    "_uuid": "8f2839f25d086af736a60e9eeb907d3b93b6e0e5",
    "colab": {},
    "colab_type": "code",
    "id": "U2D2gTdJVp90"
   },
   "outputs": [],
   "source": [
    "import numpy as np\n",
    "import pandas as pd\n",
    "import seaborn as sns\n",
    "import matplotlib.pyplot as plt\n",
    "from collections import Counter"
   ]
  },
  {
   "cell_type": "code",
   "execution_count": 0,
   "metadata": {
    "_cell_guid": "79c7e3d0-c299-4dcb-8224-4455121ee9b0",
    "_uuid": "d629ff2d2480ee46fbb7e2d37f6b5fab8052498a",
    "colab": {},
    "colab_type": "code",
    "id": "oyGfxL3eVp9-"
   },
   "outputs": [],
   "source": [
    "data = pd.read_csv('movie_bd_v5.csv')\n",
    "data.sample(5)"
   ]
  },
  {
   "cell_type": "code",
   "execution_count": 0,
   "metadata": {
    "colab": {},
    "colab_type": "code",
    "id": "CoYUnagMVp-C"
   },
   "outputs": [],
   "source": [
    "data.describe()"
   ]
  },
  {
   "cell_type": "markdown",
   "metadata": {
    "colab_type": "text",
    "id": "DTIt7ezGVp-G"
   },
   "source": [
    "# Предобработка"
   ]
  },
  {
   "cell_type": "code",
   "execution_count": 0,
   "metadata": {
    "colab": {},
    "colab_type": "code",
    "id": "jNb40DwKVp-H"
   },
   "outputs": [],
   "source": [
    "answers = {} # создадим словарь для ответов\n",
    "\n",
    "# тут другие ваши предобработки колонок например:\n",
    "\n",
    "#the time given in the dataset is in string format.\n",
    "#So we need to change this in datetime format\n",
    "# ..."
   ]
  },
  {
   "cell_type": "markdown",
   "metadata": {
    "colab_type": "text",
    "id": "YxZaH-nPVp-L"
   },
   "source": [
    "# 1. У какого фильма из списка самый большой бюджет?"
   ]
  },
  {
   "cell_type": "markdown",
   "metadata": {
    "colab_type": "text",
    "id": "Nd-G5gX6Vp-M"
   },
   "source": [
    "Использовать варианты ответов в коде решения запрещено.    \n",
    "Вы думаете и в жизни у вас будут варианты ответов?)"
   ]
  },
  {
   "cell_type": "code",
   "execution_count": 0,
   "metadata": {
    "colab": {},
    "colab_type": "code",
    "id": "uVnXAY5RVp-O"
   },
   "outputs": [],
   "source": [
    "# в словарь вставляем номер вопроса и ваш ответ на него\n",
    "# Пример: \n",
    "#answers['1'] = '2. Spider-Man 3 (tt0413300)'\n",
    "# запишите свой вариант ответа\n",
    "answers['1'] = 'Pirates of the Caribbean: On Stranger Tides(tt1298650)'\n",
    "# если ответили верно, можете добавить комментарий со значком \"+\""
   ]
  },
  {
   "cell_type": "code",
   "execution_count": 0,
   "metadata": {
    "colab": {},
    "colab_type": "code",
    "id": "dZwb3m28Vp-S"
   },
   "outputs": [],
   "source": [
    "max_budget = data[data.budget == data.budget.max()]"
   ]
  },
  {
   "cell_type": "markdown",
   "metadata": {
    "colab_type": "text",
    "id": "K7L3nbRXVp-X"
   },
   "source": [
    "ВАРИАНТ 2"
   ]
  },
  {
   "cell_type": "code",
   "execution_count": 0,
   "metadata": {
    "colab": {},
    "colab_type": "code",
    "id": "OGaoQI7rVp-X"
   },
   "outputs": [],
   "source": [
    "# можно добавлять разные варианты решения"
   ]
  },
  {
   "cell_type": "markdown",
   "metadata": {
    "colab_type": "text",
    "id": "FNRbbI3vVp-c"
   },
   "source": [
    "# 2. Какой из фильмов самый длительный (в минутах)?"
   ]
  },
  {
   "cell_type": "code",
   "execution_count": 0,
   "metadata": {
    "colab": {},
    "colab_type": "code",
    "id": "vHAoEXNTVp-d"
   },
   "outputs": [],
   "source": [
    "# думаю логику работы с этим словарем вы уже поняли, \n",
    "# по этому не буду больше его дублировать\n",
    "answers['2'] = 'Gods and Generals (tt0279111)'"
   ]
  },
  {
   "cell_type": "code",
   "execution_count": 0,
   "metadata": {
    "colab": {},
    "colab_type": "code",
    "id": "ot-VX2XrVp-g"
   },
   "outputs": [],
   "source": [
    "max_runtime = data[data.runtime == data.runtime.max()]"
   ]
  },
  {
   "cell_type": "markdown",
   "metadata": {
    "colab_type": "text",
    "id": "bapLlpW8Vp-k"
   },
   "source": [
    "# 3. Какой из фильмов самый короткий (в минутах)?\n",
    "\n",
    "\n",
    "\n"
   ]
  },
  {
   "cell_type": "code",
   "execution_count": null,
   "metadata": {
    "colab": {},
    "colab_type": "code",
    "id": "YBxaSHuAVp-l"
   },
   "outputs": [],
   "source": [
    "answers['3'] = 'Winnie the Pooh (tt1449283)'\n",
    "min_runtime = data[data.runtime == data.runtime.min()]"
   ]
  },
  {
   "cell_type": "markdown",
   "metadata": {
    "colab_type": "text",
    "id": "TfQbxbfNVp-p"
   },
   "source": [
    "# 4. Какова средняя длительность фильмов?\n"
   ]
  },
  {
   "cell_type": "code",
   "execution_count": 0,
   "metadata": {
    "colab": {},
    "colab_type": "code",
    "id": "5K6dKZYVVp-q"
   },
   "outputs": [],
   "source": [
    "answers['4'] = '110'\n",
    "mean_runtime = data.runtime.mean()"
   ]
  },
  {
   "cell_type": "markdown",
   "metadata": {
    "colab_type": "text",
    "id": "r5TvbnT_Vp-u"
   },
   "source": [
    "# 5. Каково медианное значение длительности фильмов? "
   ]
  },
  {
   "cell_type": "code",
   "execution_count": 0,
   "metadata": {
    "colab": {},
    "colab_type": "code",
    "id": "iBROplKnVp-v"
   },
   "outputs": [],
   "source": [
    "answers['5'] = '107'\n",
    "median_runtime = data.runtime.median()"
   ]
  },
  {
   "cell_type": "markdown",
   "metadata": {
    "colab_type": "text",
    "id": "39P-deDSVp-y"
   },
   "source": [
    "# 6. Какой самый прибыльный фильм?\n",
    "#### Внимание! Здесь и далее под «прибылью» или «убытками» понимается разность между сборами и бюджетом фильма. (прибыль = сборы - бюджет) в нашем датасете это будет (profit = revenue - budget) "
   ]
  },
  {
   "cell_type": "code",
   "execution_count": 0,
   "metadata": {
    "colab": {},
    "colab_type": "code",
    "id": "UYZh4T9WVp-y"
   },
   "outputs": [],
   "source": [
    "answers['6'] = 'Avatar (tt0499549)'\n",
    "#Добавляем колонку с расчетом прибыли\n",
    "data['profit'] = data['revenue']-data['budget']\n",
    "\n",
    "max_profit = data[data.profit == data.profit.max()]"
   ]
  },
  {
   "cell_type": "markdown",
   "metadata": {
    "colab_type": "text",
    "id": "M99JmIX4Vp-2"
   },
   "source": [
    "# 7. Какой фильм самый убыточный? "
   ]
  },
  {
   "cell_type": "code",
   "execution_count": 0,
   "metadata": {
    "colab": {},
    "colab_type": "code",
    "id": "w-D2m4XPVp-3"
   },
   "outputs": [],
   "source": [
    "answers['7'] = 'The Lone Ranger (tt1210819)'\n",
    "min_profit = data[data.profit == data.profit.min()]"
   ]
  },
  {
   "cell_type": "markdown",
   "metadata": {
    "colab_type": "text",
    "id": "wEOM5ERVVp-6"
   },
   "source": [
    "# 8. У скольких фильмов из датасета объем сборов оказался выше бюджета?"
   ]
  },
  {
   "cell_type": "code",
   "execution_count": 0,
   "metadata": {
    "colab": {},
    "colab_type": "code",
    "id": "y00_7HD6Vp-7"
   },
   "outputs": [],
   "source": [
    "answers['8'] = '1478'\n",
    "min_profit = data[data.revenue > data.budget]\n",
    "min_profit_count = len(min_profit)"
   ]
  },
  {
   "cell_type": "markdown",
   "metadata": {
    "colab_type": "text",
    "id": "xhpspA9KVp_A"
   },
   "source": [
    "# 9. Какой фильм оказался самым кассовым в 2008 году?"
   ]
  },
  {
   "cell_type": "code",
   "execution_count": 0,
   "metadata": {
    "colab": {},
    "colab_type": "code",
    "id": "MoUyQr9RVp_B"
   },
   "outputs": [],
   "source": [
    "answers['9'] = 'The Dark Knight (tt0468569)'\n",
    "profit2008 = data[data.release_year ==2008]\n",
    "profit2008_max = profit2008[profit2008.profit ==profit2008.profit.max()]"
   ]
  },
  {
   "cell_type": "markdown",
   "metadata": {
    "colab_type": "text",
    "id": "Zi4hDKidVp_F"
   },
   "source": [
    "# 10. Самый убыточный фильм за период с 2012 по 2014 г. (включительно)?\n"
   ]
  },
  {
   "cell_type": "code",
   "execution_count": 0,
   "metadata": {
    "colab": {},
    "colab_type": "code",
    "id": "XqyRmufJVp_F"
   },
   "outputs": [],
   "source": [
    "answers['10'] = 'The Lone Ranger (tt1210819)'\n",
    "profit1214 = data[(data.release_year >=2012)&(data.release_year <=2014)]\n",
    "profit1214_max = profit1214[profit1214.profit ==profit1214.profit.min()]"
   ]
  },
  {
   "cell_type": "markdown",
   "metadata": {
    "colab_type": "text",
    "id": "EA7Sa9dkVp_I"
   },
   "source": [
    "# 11. Какого жанра фильмов больше всего?"
   ]
  },
  {
   "cell_type": "code",
   "execution_count": 0,
   "metadata": {
    "colab": {},
    "colab_type": "code",
    "id": "zsJAwJ8QVp_J"
   },
   "outputs": [],
   "source": [
    "# эту задачу тоже можно решать разными подходами, попробуй реализовать разные варианты\n",
    "# если будешь добавлять функцию - выноси ее в предобработку что в начале"
   ]
  },
  {
   "cell_type": "markdown",
   "metadata": {
    "colab_type": "text",
    "id": "Ax6g2C8SVp_M"
   },
   "source": [
    "ВАРИАНТ 2"
   ]
  },
  {
   "cell_type": "code",
   "execution_count": 0,
   "metadata": {
    "colab": {},
    "colab_type": "code",
    "id": "otO3SbrSVp_N"
   },
   "outputs": [],
   "source": [
    "answers['11'] = 'Drama'\n",
    "\n",
    "#Так как фильм может быть отнесен к разным жанрам то необходимо значение в колонке \"genres\" преобразовать к множеству строк\n",
    "#далее разбить подобные строки на множество строк, каждая из которых будет содержать данные фильма и жанр \n",
    "data['genres'] = data['genres'].apply(lambda x: x.split('|'))\n",
    "data_genres = data.explode('genres')\n",
    "data_genres_count = data_genres['genres'].value_counts().sort_values(ascending = False).head(1)"
   ]
  },
  {
   "cell_type": "markdown",
   "metadata": {
    "colab_type": "text",
    "id": "T9_bPWpkVp_Q"
   },
   "source": [
    "# 12. Фильмы какого жанра чаще всего становятся прибыльными? "
   ]
  },
  {
   "cell_type": "code",
   "execution_count": 0,
   "metadata": {
    "colab": {},
    "colab_type": "code",
    "id": "Tmt8MaK1Vp_R"
   },
   "outputs": [],
   "source": [
    "answers['12'] = 'Drama'\n",
    "#Так как фильм может быть отнесен к разным жанрам то необходимо значение в колонке \"genres\" преобразовать к множеству строк\n",
    "#далее разбить подобные строки на множество строк, каждая из которых будет содержать данные фильма и жанр \n",
    "data['genres'] = data['genres'].apply(lambda x: x.split('|'))\n",
    "data_genres = data.explode('genres')\n",
    "#отбираем с положительным значением прибыли\n",
    "data_genres_profit = data_genres[data_genres.profit>0]\n",
    "#считаем значение по жанрам, сортируем по убыванию и берем первое значение\n",
    "genres_profit_max = data_genres_profit['genres'].value_counts().sort_values(ascending = False).head(1)"
   ]
  },
  {
   "cell_type": "markdown",
   "metadata": {
    "colab_type": "text",
    "id": "0F23bgsDVp_U"
   },
   "source": [
    "# 13. У какого режиссера самые большие суммарные кассовые сборы?"
   ]
  },
  {
   "cell_type": "code",
   "execution_count": 0,
   "metadata": {
    "colab": {},
    "colab_type": "code",
    "id": "K6Z3J8ygVp_X"
   },
   "outputs": [],
   "source": [
    "answers['13'] = 'Peter Jackson'\n",
    "#Так как фильм может быть создан несколькими режиссерами то необходимо значение в колонке \"director\" преобразовать\n",
    "#к множеству строк далее разбить подобные строки на множество строк, каждая из которых будет\n",
    "#содержать данные фильма и режиссера\n",
    "data['director'] = data['director'].apply(lambda x: x.split('|'))\n",
    "data_director = data.explode('director')\n",
    "#отбираем с положительным значением прибыли\n",
    "data_director_profit = data_director[data_director.profit>0]\n",
    "#суммируем прибыль по режиссерам, сортируем по убыванию и берем первое значение\n",
    "director_profit_max = data_director_profit.groupby(['director'])['profit'].sum().sort_values(ascending = False).head(1)"
   ]
  },
  {
   "cell_type": "markdown",
   "metadata": {
    "colab_type": "text",
    "id": "PsYC9FgRVp_a"
   },
   "source": [
    "# 14. Какой режисер снял больше всего фильмов в стиле Action?"
   ]
  },
  {
   "cell_type": "code",
   "execution_count": 0,
   "metadata": {
    "colab": {},
    "colab_type": "code",
    "id": "wd2M-wHeVp_b"
   },
   "outputs": [],
   "source": [
    "answers['14'] = 'Robert Rodriguez'\n",
    "#Так как фильм может быть отнесен к разным жанрам то необходимо значение в колонке \"genres\" преобразовать к множеству строк\n",
    "#далее разбить подобные строки на множество строк, каждая из которых будет содержать данные фильма и жанр \n",
    "data['genres'] = data['genres'].apply(lambda x: x.split('|'))\n",
    "data = data.explode('genres')\n",
    "#Так как фильм может быть создан несколькими режиссерами то необходимо значение в колонке \"director\" преобразовать\n",
    "#к множеству строк далее разбить подобные строки на множество строк, каждая из которых будет\n",
    "#содержать данные фильма и режиссера\n",
    "data['director'] = data['director'].apply(lambda x: x.split('|'))\n",
    "data = data.explode('director')\n",
    "#отбираем с положительным значением жанра Action\n",
    "data_Action = data[data.genres == 'Action']\n",
    "#считаем значение по режиссерам, сортируем по убыванию и берем первое значение\n",
    "director_Action_max = data_Action['director'].value_counts().sort_values(ascending = False).head(1)"
   ]
  },
  {
   "cell_type": "markdown",
   "metadata": {
    "colab_type": "text",
    "id": "PQ0KciD7Vp_f"
   },
   "source": [
    "# 15. Фильмы с каким актером принесли самые высокие кассовые сборы в 2012 году? "
   ]
  },
  {
   "cell_type": "code",
   "execution_count": 0,
   "metadata": {
    "colab": {},
    "colab_type": "code",
    "id": "aga62oeKVp_g"
   },
   "outputs": [],
   "source": [
    "answers['15'] = 'Chris Hemsworth'\n",
    "#Так как в фильме могут быть задействованы разные актеры, то необходимо значение в колонке \"cast\" преобразовать к множеству строк\n",
    "#далее разбить подобные строки на множество строк, каждая из которых будет содержать данные фильма и актера\n",
    "data['cast'] = data['cast'].apply(lambda x: x.split('|'))\n",
    "data = data.explode('cast')\n",
    "#отбираем фильмы за 2012 год\n",
    "data2012 = data[data.release_year == 2012]\n",
    "#суммируем кассовые сборы по актерам, сортируем по убыванию и берем первое значение\n",
    "cast_revenue_max = data2012.groupby(['cast'])['revenue'].sum().sort_values(ascending = False).head(1)"
   ]
  },
  {
   "cell_type": "markdown",
   "metadata": {
    "colab_type": "text",
    "id": "mWHyyL7QVp_j"
   },
   "source": [
    "# 16. Какой актер снялся в большем количестве высокобюджетных фильмов?"
   ]
  },
  {
   "cell_type": "code",
   "execution_count": 0,
   "metadata": {
    "colab": {},
    "colab_type": "code",
    "id": "qQtmHKTFVp_k"
   },
   "outputs": [],
   "source": [
    "answers['16'] = 'Matt Damon'\n",
    "#Так как в фильме могут быть задействованы разные актеры, то необходимо значение в колонке \"cast\" преобразовать к множеству строк\n",
    "#далее разбить подобные строки на множество строк, каждая из которых будет содержать данные фильма и актера\n",
    "data['cast'] = data['cast'].apply(lambda x: x.split('|'))\n",
    "data = data.explode('cast')\n",
    "#отбираем высокобюджетные фильмы\n",
    "data_budget = data[data.budget > data.budget.mean()]\n",
    "#считаем значение по актерам, сортируем по убыванию и берем первое значение\n",
    "cast_budget_count = data_budget['cast'].value_counts().sort_values(ascending = False).head(1)"
   ]
  },
  {
   "cell_type": "markdown",
   "metadata": {
    "colab_type": "text",
    "id": "NIh6AaW5Vp_n"
   },
   "source": [
    "# 17. В фильмах какого жанра больше всего снимался Nicolas Cage? "
   ]
  },
  {
   "cell_type": "code",
   "execution_count": 0,
   "metadata": {
    "colab": {},
    "colab_type": "code",
    "id": "H74SJDIBVp_n"
   },
   "outputs": [],
   "source": [
    "answers['17'] = 'Action'\n",
    "#Так как фильм может быть отнесен к разным жанрам то необходимо значение в колонке \"genres\" преобразовать к множеству строк\n",
    "#далее разбить подобные строки на множество строк, каждая из которых будет содержать данные фильма и жанр\n",
    "data['genres'] = data['genres'].apply(lambda x: x.split('|'))\n",
    "data = data.explode('genres')\n",
    "#Так как в фильме могут быть задействованы разные актеры, то необходимо значение в колонке \"cast\" преобразовать к множеству строк\n",
    "#далее разбить подобные строки на множество строк, каждая из которых будет содержать данные фильма и актера\n",
    "data['cast'] = data['cast'].apply(lambda x: x.split('|'))\n",
    "data = data.explode('cast')\n",
    "#отбираем фильмы с участием Николаса Кейджа\n",
    "data_cage = data[data.cast == 'Nicolas Cage']\n",
    "#считаем значение по жанрам, сортируем по убыванию и берем первое значение\n",
    "cage_genres_count = data_cage['genres'].value_counts().sort_values(ascending = False).head(1)"
   ]
  },
  {
   "cell_type": "markdown",
   "metadata": {
    "colab_type": "text",
    "id": "RqOmPRfWVp_q"
   },
   "source": [
    "# 18. Самый убыточный фильм от Paramount Pictures"
   ]
  },
  {
   "cell_type": "code",
   "execution_count": 0,
   "metadata": {
    "colab": {},
    "colab_type": "code",
    "id": "9E_B0Y96Vp_r"
   },
   "outputs": [],
   "source": [
    "answers['18'] = 'K-19: The Widowmaker (tt0267626)'\n",
    "#Так как фильм может быть создан разными компаниями то необходимо значение в колонке \"genres\" преобразовать к множеству строк\n",
    "#далее разбить подобные строки на множество строк, каждая из которых будет содержать данные фильма и жанр\n",
    "data['production_companies'] = data['production_companies'].apply(lambda x: x.split('|'))\n",
    "data = data.explode('production_companies')\n",
    "#отбираем фильмы созданные 'Paramount Pictures'\n",
    "data_production_companies = data[data.production_companies == 'Paramount Pictures']\n",
    "#находим фильм с минимальным значением прибыли\n",
    "production_title_profit = data_production_companies[data_production_companies.profit == data_production_companies.profit.min()]"
   ]
  },
  {
   "cell_type": "markdown",
   "metadata": {
    "colab_type": "text",
    "id": "vS8Ur6ddVp_u"
   },
   "source": [
    "# 19. Какой год стал самым успешным по суммарным кассовым сборам?"
   ]
  },
  {
   "cell_type": "code",
   "execution_count": 0,
   "metadata": {
    "colab": {},
    "colab_type": "code",
    "id": "Dnbt4GdIVp_v"
   },
   "outputs": [],
   "source": [
    "answers['19'] = '2015'\n",
    "#суммируем кассовые сборы по годам выпуска, сортируем по убыванию и берем первое значение\n",
    "release_year_max = data.groupby(['release_year'])['revenue'].sum().sort_values(ascending = False).head(1)"
   ]
  },
  {
   "cell_type": "markdown",
   "metadata": {
    "colab_type": "text",
    "id": "JAzJh4QAVp_z"
   },
   "source": [
    "# 20. Какой самый прибыльный год для студии Warner Bros?"
   ]
  },
  {
   "cell_type": "code",
   "execution_count": 0,
   "metadata": {
    "colab": {},
    "colab_type": "code",
    "id": "wgVu02DEVp_0"
   },
   "outputs": [],
   "source": [
    "answers['20'] = '2014'\n",
    "#Так как фильм может быть создан разными компаниями то необходимо значение в колонке \"genres\" преобразовать к множеству строк\n",
    "#далее разбить подобные строки на множество строк, каждая из которых будет содержать данные фильма и жанр\n",
    "data['production_companies'] = data['production_companies'].apply(lambda x: x.split('|'))\n",
    "data = data.explode('production_companies')\n",
    "#отбираем фильмы созданные группой компаний 'Warner Bros'\n",
    "data_production_companies = data[data['production_companies'].str.contains('Warner Bros')]\n",
    "#суммируем прибыль по годам выпуска, сортируем по убыванию и берем первое значение\n",
    "release_year_profit_max = data_production_companies.groupby(['release_year'])['profit'].sum().sort_values(ascending = False).head(1)"
   ]
  },
  {
   "cell_type": "markdown",
   "metadata": {
    "colab_type": "text",
    "id": "8Im1S2HRVp_4"
   },
   "source": [
    "# 21. В каком месяце за все годы суммарно вышло больше всего фильмов?"
   ]
  },
  {
   "cell_type": "code",
   "execution_count": 0,
   "metadata": {
    "colab": {},
    "colab_type": "code",
    "id": "lev6TH7gVp_4"
   },
   "outputs": [],
   "source": [
    "answers['21'] = 'сентябрь'\n",
    "#Преобразуем дату выпуска на множество содержащее численные данные о месяце, дне и годе выуска\n",
    "#далее добавляем колонку которая содержит порядковый номер месяца выпуска\n",
    "data['release_date'] = data['release_date'].apply(lambda x: x.split('/'))\n",
    "data['month'] = data['release_date'].apply(lambda x: x[0])\n",
    "data = data.explode('month')\n",
    "#считаем значение по месяцам, сортируем по убыванию и берем первое значение\n",
    "month_count_max = data['month'].value_counts().sort_values(ascending = False).head(1)"
   ]
  },
  {
   "cell_type": "markdown",
   "metadata": {
    "colab_type": "text",
    "id": "uAJsZ_NeVp_7"
   },
   "source": [
    "# 22. Сколько суммарно вышло фильмов летом? (за июнь, июль, август)"
   ]
  },
  {
   "cell_type": "code",
   "execution_count": 0,
   "metadata": {
    "colab": {},
    "colab_type": "code",
    "id": "Aa-hEREoVp_8"
   },
   "outputs": [],
   "source": [
    "answers['22'] = '450'\n",
    "#Преобразуем дату выпуска на множество содержащее численные данные о месяце, дне и годе выуска\n",
    "#далее добавляем колонку которая содержит порядковый номер месяца выпуска\n",
    "data['release_date'] = data['release_date'].apply(lambda x: x.split('/'))\n",
    "data['month'] = data['release_date'].apply(lambda x: x[0])\n",
    "data = data.explode('month')\n",
    "#далее добавляем колонку которая содержит булево значение в зависимости от того, является ли месяц выпуска летним\n",
    "data['month_summer'] = data['month'].isin(['6','7','8'])\n",
    "#отбираем фильмы созданные летом\n",
    "data_summer = data[data.month_summer == True]\n",
    "#вычисляем длину списка фильмов выпущенных летом\n",
    "summer_count = len(data_summer)"
   ]
  },
  {
   "cell_type": "markdown",
   "metadata": {
    "colab_type": "text",
    "id": "G94ppOY1VqAA"
   },
   "source": [
    "# 23. Для какого режиссера зима – самое продуктивное время года? "
   ]
  },
  {
   "cell_type": "code",
   "execution_count": 0,
   "metadata": {
    "colab": {},
    "colab_type": "code",
    "id": "RhNTsamuVqAB"
   },
   "outputs": [],
   "source": [
    "answers['23'] = 'Peter Jackson'\n",
    "#Так как фильм может быть создан несколькими режиссерами то необходимо значение в колонке \"director\" преобразовать\n",
    "#к множеству строк далее разбить подобные строки на множество строк, каждая из которых будет\n",
    "#содержать данные фильма и режиссера\n",
    "data['director'] = data['director'].apply(lambda x: x.split('|'))\n",
    "data = data.explode('director')\n",
    "#Преобразуем дату выпуска на множество содержащее численные данные о месяце, дне и годе выуска\n",
    "#далее добавляем колонку которая содержит порядковый номер месяца выпуска\n",
    "data['release_date'] = data['release_date'].apply(lambda x: x.split('/'))\n",
    "data['month'] = data['release_date'].apply(lambda x: x[0])\n",
    "data = data.explode('month')\n",
    "#далее добавляем колонку которая содержит булево значение в зависимости от того, является ли месяц выпуска зимним\n",
    "data['month_winter'] = data['month'].isin(['12','1','2'])\n",
    "#отбираем фильмы созданные зимой\n",
    "data_winter = data[month_winter.month == True]\n",
    "#считаем значение по режиссерам, сортируем по убыванию и берем первое значение\n",
    "director_winter_count = data_winter['director'].value_counts().sort_values(ascending = False).head(1)"
   ]
  },
  {
   "cell_type": "markdown",
   "metadata": {
    "colab_type": "text",
    "id": "RBo0JVjVVqAF"
   },
   "source": [
    "# 24. Какая студия дает самые длинные названия своим фильмам по количеству символов?"
   ]
  },
  {
   "cell_type": "code",
   "execution_count": 0,
   "metadata": {
    "colab": {},
    "colab_type": "code",
    "id": "QRGS8L0iVqAG"
   },
   "outputs": [],
   "source": [
    "answers['24'] = 'Four By Two Productions'\n",
    "#Так как фильм может быть создан разными компаниями то необходимо значение в колонке \"genres\" преобразовать к множеству строк\n",
    "#далее разбить подобные строки на множество строк, каждая из которых будет содержать данные фильма и жанр\n",
    "data['production_companies'] = data['production_companies'].apply(lambda x: x.split('|'))\n",
    "data = data.explode('production_companies')\n",
    "#далее добавляем колонку которая содержит длину наименования фильма\n",
    "data['len_title'] = data['original_title'].apply(lambda x: len(x))\n",
    "#считаем среднюю длину наименований по компаниям, сортируем по убыванию и берем первое значениеи\n",
    "companies_title_max = data.groupby(['production_companies'])['len_title'].mean().sort_values(ascending = False).head(1)"
   ]
  },
  {
   "cell_type": "markdown",
   "metadata": {
    "colab_type": "text",
    "id": "9G0hbvR7VqAK"
   },
   "source": [
    "# 25. Описание фильмов какой студии в среднем самые длинные по количеству слов?"
   ]
  },
  {
   "cell_type": "code",
   "execution_count": 0,
   "metadata": {
    "colab": {},
    "colab_type": "code",
    "id": "Ge2GsLNxVqAK"
   },
   "outputs": [],
   "source": [
    "answers['25'] = 'Midnight Picture Show'\n",
    "#Так как фильм может быть создан разными компаниями то необходимо значение в колонке \"genres\" преобразовать к множеству строк\n",
    "#далее разбить подобные строки на множество строк, каждая из которых будет содержать данные фильма и жанр\n",
    "data['production_companies'] = data['production_companies'].apply(lambda x: x.split('|'))\n",
    "data = data.explode('production_companies')\n",
    "#далее добавляем колонку которая содержит длину описания фильма\n",
    "data['count_overview'] = data['overview'].apply(lambda x: len(x.split(' ')))\n",
    "#считаем среднюю длину описаний фильма по компаниям, сортируем по убыванию и берем первое значениеи\n",
    "companies_overview_max = data.groupby(['production_companies'])['count_overview'].mean().sort_values(ascending = False).head(1)"
   ]
  },
  {
   "cell_type": "markdown",
   "metadata": {
    "colab_type": "text",
    "id": "FJ1AFt90VqAP"
   },
   "source": [
    "# 26. Какие фильмы входят в 1 процент лучших по рейтингу? \n",
    "по vote_average"
   ]
  },
  {
   "cell_type": "code",
   "execution_count": 0,
   "metadata": {
    "colab": {},
    "colab_type": "code",
    "id": "8qmJVq4CVqAQ"
   },
   "outputs": [],
   "source": [
    "answers['26'] = 'Inside Out, The Dark Knight, 12 Years a Slave'\n",
    "#считаем длину списка фильмов\n",
    "total_list = len(data)\n",
    "#вычисляем количество фильмов на один процент от общего количества\n",
    "top_one_count = round(total_list/100)\n",
    "#сортируем список фильмов по рейтингу по убыванию и берем первые в количестве, соответствующем одному проценту\n",
    "data_top = data.sort_values('vote_average', ascending = False).head(top_one_count)"
   ]
  },
  {
   "cell_type": "markdown",
   "metadata": {
    "colab_type": "text",
    "id": "MdXsUXbCVqAV"
   },
   "source": [
    "# 27. Какие актеры чаще всего снимаются в одном фильме вместе?\n"
   ]
  },
  {
   "cell_type": "code",
   "execution_count": null,
   "metadata": {
    "colab_type": "text",
    "id": "4ymnxEVoVqAW"
   },
   "outputs": [],
   "source": [
    "answers['27'] = '(Daniel Radcliffe, Rupert Grint)'\n",
    "#Так как в фильме могут быть задействованы разные актеры, то необходимо значение в колонке \"cast\" преобразовать к множеству строк\n",
    "#далее разбить подобные строки на множество строк, каждая из которых будет содержать данные фильма и актера\n",
    "data['cast'] = data['cast'].apply(lambda x: x.split('|'))\n",
    "#далее добавляем колонку которая возможные комбинации пар актеров\n",
    "from itertools import combinations\n",
    "data['pairs'] = data['cast'].apply(lambda s: list(combinations(s,2)))\n",
    "data = data.explode('pairs').reset_index()\n",
    "#считаем количество пар, находим наиболее часто встречающееся\n",
    "from collections import Counter\n",
    "Counter(data['pairs']).most_common(1)"
   ]
  },
  {
   "cell_type": "markdown",
   "metadata": {
    "colab_type": "text",
    "id": "U0nONFnGVqAX"
   },
   "source": [
    "# Submission"
   ]
  },
  {
   "cell_type": "code",
   "execution_count": null,
   "metadata": {
    "colab": {},
    "colab_type": "code",
    "id": "IfcaRO9-VqAX",
    "outputId": "0f132912-32bb-4196-c98c-abfbc4ad5a5f"
   },
   "outputs": [],
   "source": [
    "# в конце можно посмотреть свои ответы к каждому вопросу\n",
    "answers"
   ]
  },
  {
   "cell_type": "code",
   "execution_count": 0,
   "metadata": {
    "colab": {},
    "colab_type": "code",
    "id": "SiRmHPl8VqAd"
   },
   "outputs": [],
   "source": [
    "# и убедиться что ни чего не пропустил)\n",
    "len(answers)"
   ]
  },
  {
   "cell_type": "code",
   "execution_count": null,
   "metadata": {
    "colab": {},
    "colab_type": "code",
    "id": "uCfuTkRbVqAg"
   },
   "outputs": [],
   "source": [
    "{'1': 'Pirates of the Caribbean: On Stranger Tides(tt1298650)', '2': 'Gods and Generals (tt0279111)', '3': 'Winnie the Pooh (tt1449283)', '4': '110', '5': '107', '6': 'Avatar (tt0499549)', '7': 'The Lone Ranger (tt1210819)', '8': '1478', '9': 'The Dark Knight (tt0468569)', '10': 'The Lone Ranger (tt1210819)', '11': 'Drama', '12': 'Drama', '13': 'Peter Jackson', '14': 'Robert Rodriguez', '15': 'Chris Hemsworth', '16': 'Matt Damon', '17': 'Action', '18': 'K-19: The Widowmaker (tt0267626)', '19': '2015', '20': '2014', '21': 'сентябрь', '22': '450', '23': 'Peter Jackson', '24': 'Four By Two Productions', '25': 'Midnight Picture Show', '26': 'Inside Out, The Dark Knight, 12 Years a Slave', '27': '(Daniel Radcliffe, Rupert Grint)'}\n",
    "27"
   ]
  },
  {
   "cell_type": "code",
   "execution_count": 7,
   "metadata": {
    "colab": {},
    "colab_type": "code",
    "id": "Vwx3NrkSVqAl"
   },
   "outputs": [
    {
     "name": "stdout",
     "output_type": "stream",
     "text": [
      "723    Pirates of the Caribbean: On Stranger Tides\n",
      "Name: original_title, dtype: object\n",
      "Pirates of the Caribbean: On Stranger Tides(tt1298650)/////////////\n",
      "1157    Gods and Generals\n",
      "Name: original_title, dtype: object\n",
      "Gods and Generals (tt0279111) /////////////\n",
      "768    Winnie the Pooh\n",
      "Name: original_title, dtype: object\n",
      "Winnie the Pooh (tt1449283) /////////////\n",
      "109.6585494970884\n",
      "110 //////////////\n",
      "107.0\n",
      "107 //////////////\n",
      "239    Avatar\n",
      "Name: original_title, dtype: object\n",
      "Avatar (tt0499549) //////////////\n",
      "1245    The Lone Ranger\n",
      "Name: original_title, dtype: object\n",
      "The Lone Ranger (tt1210819) //////////////\n",
      "1478\n",
      "1478 //////////////\n",
      "599    The Dark Knight\n",
      "Name: original_title, dtype: object\n",
      "The Dark Knight (tt0468569) //////////////\n",
      "1245    The Lone Ranger\n",
      "Name: original_title, dtype: object\n",
      "The Lone Ranger (tt1210819) //////////////\n",
      "Drama    560\n",
      "Name: genres, dtype: int64\n",
      "Drama //////////////\n",
      "Drama    782\n",
      "Name: genres, dtype: int64\n",
      "Drama //////////////\n",
      "director\n",
      "Peter Jackson    5202593685\n",
      "Name: profit, dtype: int64\n",
      "Peter Jackson //////////////\n",
      "Robert Rodriguez    9\n",
      "Name: director, dtype: int64\n",
      "Robert Rodriguez //////////////\n",
      "cast\n",
      "Chris Hemsworth    2027450773\n",
      "Name: revenue, dtype: int64\n",
      "Chris Hemsworth //////////////\n",
      "Matt Damon    18\n",
      "Name: cast, dtype: int64\n",
      "Matt Damon //////////////\n",
      "Action    17\n",
      "Name: genres, dtype: int64\n",
      "Action //////////////\n",
      "925    K-19: The Widowmaker\n",
      "Name: original_title, dtype: object\n",
      "K-19: The Widowmaker (tt0267626) //////////////\n",
      "release_year\n",
      "2015    89001215755\n",
      "Name: revenue, dtype: int64\n",
      "2015 //////////////\n",
      "release_year\n",
      "2014    2292949646\n",
      "Name: profit, dtype: int64\n",
      "2014 //////////////\n",
      "9    729\n",
      "Name: month, dtype: int64\n",
      "сентябрь //////////////\n",
      "450\n",
      "450 //////////////\n",
      "Peter Jackson    7\n",
      "Name: director, dtype: int64\n",
      "Peter Jackson //////////////\n",
      "production_companies\n",
      "Four By Two Productions    83.0\n",
      "Name: len_title, dtype: float64\n",
      "Four By Two Productions //////////////\n",
      "production_companies\n",
      "Midnight Picture Show    175.0\n",
      "Name: count_overview, dtype: float64\n",
      "Midnight Picture Show //////////////\n",
      "599                                   The Dark Knight\n",
      "118                                      Interstellar\n",
      "125                                The Imitation Game\n",
      "9                                          Inside Out\n",
      "34                                               Room\n",
      "1183                          The Wolf of Wall Street\n",
      "128                                         Gone Girl\n",
      "1191                                 12 Years a Slave\n",
      "119                           Guardians of the Galaxy\n",
      "1081    The Lord of the Rings: The Return of the King\n",
      "1800                                          Memento\n",
      "370                                         Inception\n",
      "872                                       The Pianist\n",
      "138                          The Grand Budapest Hotel\n",
      "1188                                              Her\n",
      "28                                          Spotlight\n",
      "124                                        Big Hero 6\n",
      "177                            The Fault in Our Stars\n",
      "863             The Lord of the Rings: The Two Towers\n",
      "Name: original_title, dtype: object\n",
      "Inside Out, The Dark Knight, 12 Years a Slave //////////////\n",
      "[(('Daniel Radcliffe', 'Rupert Grint'), 8)]\n",
      "(Daniel Radcliffe, Rupert Grint) //////////////\n",
      "//////////////\n",
      " \n",
      "{'1': 'Pirates of the Caribbean: On Stranger Tides(tt1298650)', '2': 'Gods and Generals (tt0279111)', '3': 'Winnie the Pooh (tt1449283)', '4': '110', '5': '107', '6': 'Avatar (tt0499549)', '7': 'The Lone Ranger (tt1210819)', '8': '1478', '9': 'The Dark Knight (tt0468569)', '10': 'The Lone Ranger (tt1210819)', '11': 'Drama', '12': 'Drama', '13': 'Peter Jackson', '14': 'Robert Rodriguez', '15': 'Chris Hemsworth', '16': 'Matt Damon', '17': 'Action', '18': 'K-19: The Widowmaker (tt0267626)', '19': '2015', '20': '2014', '21': 'сентябрь', '22': '450', '23': 'Peter Jackson', '24': 'Four By Two Productions', '25': 'Midnight Picture Show', '26': 'Inside Out, The Dark Knight, 12 Years a Slave', '27': '(Daniel Radcliffe, Rupert Grint)'}\n",
      "27\n"
     ]
    }
   ],
   "source": [
    "import numpy as np\n",
    "import pandas as pd\n",
    "import seaborn as sns\n",
    "import matplotlib.pyplot as plt\n",
    "\n",
    "answers = {}\n",
    "\n",
    "data = pd.read_csv('movie_bd_v5.csv')\n",
    "\n",
    "answers['1'] = 'Pirates of the Caribbean: On Stranger Tides(tt1298650)'\n",
    "max_budget = data[data.budget == data.budget.max()]\n",
    "print(max_budget['original_title'])\n",
    "print('Pirates of the Caribbean: On Stranger Tides(tt1298650)/////////////')\n",
    "\n",
    "answers['2'] = 'Gods and Generals (tt0279111)'\n",
    "max_runtime = data[data.runtime == data.runtime.max()]\n",
    "print(max_runtime['original_title'])\n",
    "print('Gods and Generals (tt0279111) /////////////')\n",
    "\n",
    "answers['3'] = 'Winnie the Pooh (tt1449283)'\n",
    "min_runtime = data[data.runtime == data.runtime.min()]\n",
    "print(min_runtime['original_title'])\n",
    "print('Winnie the Pooh (tt1449283) /////////////')\n",
    "\n",
    "answers['4'] = '110'\n",
    "mean_runtime = data.runtime.mean()\n",
    "print(mean_runtime)\n",
    "print('110 //////////////')\n",
    "\n",
    "answers['5'] = '107'\n",
    "median_runtime = data.runtime.median()\n",
    "print(median_runtime)\n",
    "print('107 //////////////')\n",
    "\n",
    "answers['6'] = 'Avatar (tt0499549)'\n",
    "data['profit'] = data['revenue']-data['budget']\n",
    "max_profit = data[data.profit == data.profit.max()]\n",
    "print(max_profit['original_title'])\n",
    "print('Avatar (tt0499549) //////////////')\n",
    "\n",
    "answers['7'] = 'The Lone Ranger (tt1210819)'\n",
    "min_profit = data[data.profit == data.profit.min()]\n",
    "print(min_profit['original_title'])\n",
    "print('The Lone Ranger (tt1210819) //////////////')\n",
    "\n",
    "answers['8'] = '1478'\n",
    "low_profit = data[data.revenue > data.budget]\n",
    "low_profit_count = len(low_profit)\n",
    "print(low_profit_count)\n",
    "print('1478 //////////////')\n",
    "\n",
    "answers['9'] = 'The Dark Knight (tt0468569)'\n",
    "profit2008 = data[data.release_year ==2008]\n",
    "profit2008_max = profit2008[profit2008.profit ==profit2008.profit.max()]\n",
    "print(profit2008_max['original_title'])\n",
    "print('The Dark Knight (tt0468569) //////////////')\n",
    "\n",
    "answers['10'] = 'The Lone Ranger (tt1210819)'\n",
    "profit1214 = data[(data.release_year >=2012)&(data.release_year <=2014)]\n",
    "profit1214_max = profit1214[profit1214.profit ==profit1214.profit.min()]\n",
    "print(profit1214_max['original_title'])\n",
    "print('The Lone Ranger (tt1210819) //////////////')\n",
    "\n",
    "answers['11'] = 'Drama'\n",
    "data['genres'] = data['genres'].apply(lambda x: x.split('|'))\n",
    "data_genres = data.explode('genres')\n",
    "data_genres_profit = data_genres[data_genres.profit>0]\n",
    "genres_profit_max = data_genres_profit['genres'].value_counts().sort_values(ascending = False).head(1)\n",
    "print(genres_profit_max)\n",
    "print('Drama //////////////')\n",
    "\n",
    "answers['12'] = 'Drama'\n",
    "data_genres_count = data_genres['genres'].value_counts().sort_values(ascending = False).head(1)\n",
    "print(data_genres_count)\n",
    "print('Drama //////////////')\n",
    "\n",
    "answers['13'] = 'Peter Jackson'\n",
    "data = data.copy()\n",
    "data['director'] = data['director'].apply(lambda x: x.split('|'))\n",
    "data_director = data.explode('director')\n",
    "data_director_profit = data_director[data_director.profit>0]\n",
    "director_profit_max = data_director_profit.groupby(['director'])['profit'].sum().sort_values(ascending = False).head(1)\n",
    "print(director_profit_max)\n",
    "print('Peter Jackson //////////////')\n",
    "\n",
    "answers['14'] = 'Robert Rodriguez'\n",
    "data_director_Action = data_director.explode('genres')\n",
    "data_Action = data_director_Action[data_director_Action.genres == 'Action']\n",
    "director_Action_max = data_Action['director'].value_counts().sort_values(ascending = False).head(1)\n",
    "print(director_Action_max)\n",
    "print('Robert Rodriguez //////////////')\n",
    "\n",
    "answers['15'] = 'Chris Hemsworth'\n",
    "data['cast'] = data['cast'].apply(lambda x: x.split('|'))\n",
    "data_cast = data.explode('cast')\n",
    "data2012 = data_cast[data_cast.release_year == 2012]\n",
    "cast_revenue_max = data2012.groupby(['cast'])['revenue'].sum().sort_values(ascending = False).head(1)\n",
    "print(cast_revenue_max)\n",
    "print('Chris Hemsworth //////////////')\n",
    "\n",
    "answers['16'] = 'Matt Damon'\n",
    "data_budget = data_cast[data_cast.budget > data.budget.mean()]\n",
    "cast_budget_count = data_budget['cast'].value_counts().sort_values(ascending = False).head(1)\n",
    "print(cast_budget_count)\n",
    "print('Matt Damon //////////////')\n",
    "\n",
    "answers['17'] = 'Action'\n",
    "data_cage_genres = data_cast.explode('genres')\n",
    "data_cage = data_cage_genres[data_cage_genres.cast == 'Nicolas Cage']\n",
    "cage_genres_count = data_cage['genres'].value_counts().sort_values(ascending = False).head(1)\n",
    "print(cage_genres_count)\n",
    "print('Action //////////////')\n",
    "\n",
    "answers['18'] = 'K-19: The Widowmaker (tt0267626)'\n",
    "data['production_companies'] = data['production_companies'].apply(lambda x: x.split('|'))\n",
    "data = data.explode('production_companies')\n",
    "data_production_companies = data[data.production_companies == 'Paramount Pictures']\n",
    "production_title_profit = data_production_companies[data_production_companies.profit == data_production_companies.profit.min()]\n",
    "print(production_title_profit['original_title'])\n",
    "print('K-19: The Widowmaker (tt0267626) //////////////')\n",
    "\n",
    "answers['19'] = '2015'\n",
    "release_year_max = data.groupby(['release_year'])['revenue'].sum().sort_values(ascending = False).head(1)\n",
    "print(release_year_max)\n",
    "print('2015 //////////////')\n",
    "\n",
    "answers['20'] = '2014'\n",
    "data_production_companies = data[data['production_companies'].str.contains('Warner Bros')]\n",
    "release_year_profit_max = data_production_companies.groupby(['release_year'])['profit'].sum().sort_values(ascending = False).head(1)\n",
    "print(release_year_profit_max)\n",
    "print('2014 //////////////')\n",
    "\n",
    "answers['21'] = 'сентябрь'\n",
    "data['release_date'] = data['release_date'].apply(lambda x: x.split('/'))\n",
    "data['month'] = data['release_date'].apply(lambda x: x[0])\n",
    "data = data.explode('month')\n",
    "month_count_max = data['month'].value_counts().sort_values(ascending = False).head(1)\n",
    "print(month_count_max)\n",
    "print('сентябрь //////////////')\n",
    "\n",
    "answers['22'] = '450'\n",
    "data['month_summer'] = data['month'].isin(['6','7','8'])\n",
    "data_summer = data[data.month_summer == True]\n",
    "summer_count = data_summer['imdb_id'].value_counts()\n",
    "print(len(summer_count))\n",
    "print('450 //////////////')\n",
    "\n",
    "answers['23'] = 'Peter Jackson'\n",
    "data2 = pd.read_csv('movie_bd_v5.csv')\n",
    "data2['director'] = data2['director'].apply(lambda x: x.split('|'))\n",
    "data2 = data2.explode('director')\n",
    "data2['release_date'] = data2['release_date'].apply(lambda x: x.split('/'))\n",
    "data2['month'] = data2['release_date'].apply(lambda x: x[0])\n",
    "data2 = data2.explode('month')\n",
    "data2['month_winter'] = data2['month'].isin(['12','1','2'])\n",
    "data_winter = data2[data2.month_winter == True]\n",
    "director_winter_count = data_winter['director'].value_counts().sort_values(ascending = False).head(1)\n",
    "print(director_winter_count)\n",
    "print('Peter Jackson //////////////')\n",
    "\n",
    "answers['24'] = 'Four By Two Productions'\n",
    "data['len_title'] = data['original_title'].apply(lambda x: len(x))\n",
    "companies_title_max = data.groupby(['production_companies'])['len_title'].mean().sort_values(ascending = False).head(1)\n",
    "print(companies_title_max)\n",
    "print('Four By Two Productions //////////////')\n",
    "\n",
    "answers['25'] = 'Midnight Picture Show'\n",
    "data['count_overview'] = data['overview'].apply(lambda x: len(x.split(' ')))\n",
    "companies_overview_max = data.groupby(['production_companies'])['count_overview'].mean().sort_values(ascending = False).head(1)\n",
    "print(companies_overview_max)\n",
    "print('Midnight Picture Show //////////////')\n",
    "\n",
    "answers['26'] = 'Inside Out, The Dark Knight, 12 Years a Slave'\n",
    "data1 = pd.read_csv('movie_bd_v5.csv')\n",
    "total_list = len(data1)\n",
    "top_one_count = round(total_list/100)\n",
    "data_top = data1.sort_values('vote_average', ascending = False).head(top_one_count)\n",
    "print(data_top['original_title'])\n",
    "print('Inside Out, The Dark Knight, 12 Years a Slave //////////////')\n",
    "\n",
    "answers['27'] = '(Daniel Radcliffe, Rupert Grint)'\n",
    "data3 = pd.read_csv('movie_bd_v5.csv')\n",
    "data3['cast'] = data3['cast'].apply(lambda x: x.split('|'))\n",
    "from itertools import combinations\n",
    "data3['pairs'] = data3['cast'].apply(lambda s: list(combinations(s,2)))\n",
    "data3 = data3.explode('pairs').reset_index()\n",
    "from collections import Counter\n",
    "print(Counter(data3['pairs']).most_common(1))\n",
    "print('(Daniel Radcliffe, Rupert Grint) //////////////')\n",
    "print('//////////////')\n",
    "print(' ')\n",
    "\n",
    "# в конце можно посмотреть свои ответы к каждому вопросу\n",
    "print(answers)\n",
    "print(len(answers))"
   ]
  },
  {
   "cell_type": "code",
   "execution_count": null,
   "metadata": {},
   "outputs": [],
   "source": []
  }
 ],
 "metadata": {
  "colab": {
   "name": "Copy of [SF-DST] Movies IMBD v4.1 TEMPLATE.ipynb",
   "provenance": []
  },
  "kernelspec": {
   "display_name": "Python 3",
   "language": "python",
   "name": "python3"
  },
  "language_info": {
   "codemirror_mode": {
    "name": "ipython",
    "version": 3
   },
   "file_extension": ".py",
   "mimetype": "text/x-python",
   "name": "python",
   "nbconvert_exporter": "python",
   "pygments_lexer": "ipython3",
   "version": "3.8.3"
  }
 },
 "nbformat": 4,
 "nbformat_minor": 1
}
